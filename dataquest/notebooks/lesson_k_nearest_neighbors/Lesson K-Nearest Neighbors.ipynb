{
 "cells": [
  {
   "cell_type": "code",
   "execution_count": 1,
   "metadata": {},
   "outputs": [],
   "source": [
    "import numpy as np\n",
    "import pandas as pd"
   ]
  },
  {
   "cell_type": "markdown",
   "metadata": {},
   "source": [
    "#### Read [Airbnb listings dataset for Washington DC](http://data.insideairbnb.com/united-states/dc/washington-dc/2015-10-03/data/listings.csv.gz) into a Pandas DataFrame"
   ]
  },
  {
   "cell_type": "code",
   "execution_count": 2,
   "metadata": {},
   "outputs": [],
   "source": [
    "dc_listings = pd.read_csv(\"dc_airbnb.csv\")"
   ]
  },
  {
   "cell_type": "markdown",
   "metadata": {},
   "source": [
    "#### Compute the `distance` for a single feature, the number of people accommodated by a listing, compared against a hypothetical listing which accommodates 3 people."
   ]
  },
  {
   "cell_type": "code",
   "execution_count": 3,
   "metadata": {},
   "outputs": [],
   "source": [
    "dc_listings[\"distance\"] = dc_listings[\"accommodates\"].apply(lambda x : abs(3 - x))"
   ]
  },
  {
   "cell_type": "markdown",
   "metadata": {},
   "source": [
    "#### Randomize the index and sort by `distance`"
   ]
  },
  {
   "cell_type": "code",
   "execution_count": 4,
   "metadata": {},
   "outputs": [],
   "source": [
    "np.random.seed(1)\n",
    "dc_listings = dc_listings.loc[np.random.permutation(dc_listings.index)]\n",
    "dc_listings.sort_values(\"distance\", inplace=True)"
   ]
  },
  {
   "cell_type": "markdown",
   "metadata": {},
   "source": [
    "#### Clean the `price` column, and convert its type from string to float, and find the mean price from the top five rows with `distance == 0`"
   ]
  },
  {
   "cell_type": "code",
   "execution_count": 8,
   "metadata": {},
   "outputs": [
    {
     "name": "stdout",
     "output_type": "stream",
     "text": [
      "Average price for listings with same accomodation: 156.6\n"
     ]
    }
   ],
   "source": [
    "def clean_price(price):\n",
    "    return price.replace(',', '').replace('$', '')\n",
    "\n",
    "#dc_listings[\"price\"] = dc_listings[\"price\"].apply(clean_price).astype(float)\n",
    "mean_price = np.mean(dc_listings[\"price\"][:5])\n",
    "print(\"Average price for listings with same accomodation: {price}\".format(price=mean_price))"
   ]
  },
  {
   "cell_type": "markdown",
   "metadata": {},
   "source": [
    "#### Using the above approach we can create a general function for predicting the best price for a listing based on the number of people it accommodates:"
   ]
  },
  {
   "cell_type": "code",
   "execution_count": 9,
   "metadata": {},
   "outputs": [],
   "source": [
    "def predict_price(sleepers, listings):\n",
    "    \"\"\"\n",
    "    Predict an optimum listing price based on the number of people the listing accommodates (the feature), \n",
    "    using a dataset of existing listings as the training dataset.\n",
    "    \n",
    "    :param sleepers the number of people the listing accommodates\n",
    "    :param listings DataFrame containing listings for the same market\n",
    "    :return optimal price based on the above parameters\n",
    "    \"\"\"\n",
    "\n",
    "    df = listings.copy()\n",
    "    \n",
    "    # get the \"distance\" based on number of people the listing accommodates\n",
    "    df[\"distance\"] = df[\"accommodates\"].apply(lambda x : abs(sleepers - x))\n",
    "    \n",
    "    # sort into ascending order (lowest distances first)\n",
    "    df.sort_values(by=\"distance\", inplace=True)\n",
    "    \n",
    "    # return the average price of the top five (randomized) rows \n",
    "    return np.mean(df[\"price\"][:5])\n"
   ]
  },
  {
   "cell_type": "code",
   "execution_count": 12,
   "metadata": {},
   "outputs": [
    {
     "name": "stdout",
     "output_type": "stream",
     "text": [
      "Optimal price for listing which accommodates 1 people:  $78.80\n",
      "Optimal price for listing which accommodates 2 people:  $126.00\n",
      "Optimal price for listing which accommodates 3 people:  $194.80\n",
      "Optimal price for listing which accommodates 4 people:  $197.60\n",
      "Optimal price for listing which accommodates 5 people:  $183.20\n",
      "Optimal price for listing which accommodates 6 people:  $186.00\n"
     ]
    }
   ],
   "source": [
    "# show the best prices for listings which accommodate 1 - 6 people \n",
    "for x in range(1, 7):\n",
    "    print(\"Optimal price for listing which accommodates {peeps} people:  ${price:.2f}\".format(peeps=x, \n",
    "                                                                                              price=predict_price(x, dc_listings)))"
   ]
  },
  {
   "cell_type": "code",
   "execution_count": null,
   "metadata": {},
   "outputs": [],
   "source": []
  }
 ],
 "metadata": {
  "kernelspec": {
   "display_name": "Python 3",
   "language": "python",
   "name": "python3"
  },
  "language_info": {
   "codemirror_mode": {
    "name": "ipython",
    "version": 3
   },
   "file_extension": ".py",
   "mimetype": "text/x-python",
   "name": "python",
   "nbconvert_exporter": "python",
   "pygments_lexer": "ipython3",
   "version": "3.6.4"
  }
 },
 "nbformat": 4,
 "nbformat_minor": 2
}
