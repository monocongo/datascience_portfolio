{
 "cells": [
  {
   "cell_type": "code",
   "execution_count": 2,
   "metadata": {
    "collapsed": true
   },
   "outputs": [],
   "source": [
    "import matplotlib.pyplot as plt\n",
    "import pandas as pd\n",
    "import sqlite3\n",
    "%matplotlib inline"
   ]
  },
  {
   "cell_type": "markdown",
   "metadata": {},
   "source": [
    "Create a function that connects to the database and returns a Pandas DataFrame object that contains the result of a query."
   ]
  },
  {
   "cell_type": "code",
   "execution_count": 3,
   "metadata": {
    "collapsed": false
   },
   "outputs": [],
   "source": [
    "def run_query(query):\n",
    "    with sqlite3.connect('chinook.db') as conn:\n",
    "        return pd.read_sql(query, conn)"
   ]
  },
  {
   "cell_type": "markdown",
   "metadata": {},
   "source": [
    "Create a function that executes an SQL command."
   ]
  },
  {
   "cell_type": "code",
   "execution_count": 4,
   "metadata": {
    "collapsed": true
   },
   "outputs": [],
   "source": [
    "def run_command(command):\n",
    "    with sqlite3.connect('chinook.db') as conn:\n",
    "        # autocommit any changes made by the command we'll execute\n",
    "        conn.isolation_level = None\n",
    "        conn.execute(command)"
   ]
  },
  {
   "cell_type": "markdown",
   "metadata": {},
   "source": [
    "Create a function that returns a list of all tables and views in the database."
   ]
  },
  {
   "cell_type": "code",
   "execution_count": 5,
   "metadata": {
    "collapsed": true
   },
   "outputs": [],
   "source": [
    "def show_tables():\n",
    "    \n",
    "    # query the database for all tables and views\n",
    "    query = 'SELECT name, type FROM sqlite_master WHERE type IN (\"table\",\"view\");'\n",
    "    \n",
    "    # display the result\n",
    "    print(run_query(query))"
   ]
  },
  {
   "cell_type": "code",
   "execution_count": 6,
   "metadata": {
    "collapsed": false
   },
   "outputs": [
    {
     "name": "stdout",
     "output_type": "stream",
     "text": [
      "              name   type\n",
      "0            album  table\n",
      "1           artist  table\n",
      "2         customer  table\n",
      "3         employee  table\n",
      "4            genre  table\n",
      "5          invoice  table\n",
      "6     invoice_line  table\n",
      "7       media_type  table\n",
      "8         playlist  table\n",
      "9   playlist_track  table\n",
      "10           track  table\n"
     ]
    }
   ],
   "source": [
    "show_tables()"
   ]
  },
  {
   "cell_type": "code",
   "execution_count": 31,
   "metadata": {
    "collapsed": false
   },
   "outputs": [
    {
     "name": "stdout",
     "output_type": "stream",
     "text": [
      "            genre_name  quantity\n",
      "0                 Rock      2474\n",
      "1                Metal       654\n",
      "2   Alternative & Punk       500\n",
      "3          Alternative       285\n",
      "4             R&B/Soul       212\n",
      "5                Blues       110\n",
      "6                  Pop        71\n",
      "7       Easy Listening        47\n",
      "8                Latin        34\n",
      "9          Hip Hop/Rap        33\n",
      "10                Jazz        31\n",
      "11   Electronica/Dance        17\n",
      "12           Classical        16\n",
      "13              Reggae        10\n",
      "14         Heavy Metal         3\n",
      "15          Soundtrack         2\n",
      "16            TV Shows         1\n"
     ]
    }
   ],
   "source": [
    "query = \"WITH track_genres AS (SELECT t.track_id, g.name AS genre_name FROM track AS t INNER JOIN genre AS g ON t.genre_id = g.genre_id) SELECT tg.genre_name, SUM(il.quantity) FROM invoice_line AS il INNER JOIN track_genres AS tg ON il.track_id = tg.track_id GROUP BY 1\"\n",
    "query = (\"WITH track_genres AS \"\n",
    "         \"(\"\n",
    "         \" SELECT t.track_id, \"\n",
    "         \"        g.name AS genre_name \"\n",
    "         \" FROM track AS t \" \n",
    "         \" INNER JOIN genre AS g ON t.genre_id = g.genre_id \"\n",
    "         \"), \"\n",
    "         \"usa_tracks AS \"\n",
    "         \"(\"\n",
    "         \" SELECT il.track_id AS track_id\"\n",
    "         \" FROM invoice_line AS il \"\n",
    "         \" INNER JOIN (SELECT inv.invoice_id AS invoice_id \"\n",
    "         \"             FROM invoice AS inv\"\n",
    "         \"             WHERE inv.billing_country = 'USA') \"\n",
    "         \"    AS i ON il.invoice_id = i.invoice_id \"\n",
    "         \") \"\n",
    "         \"SELECT tg.genre_name, \"\n",
    "         \"        SUM(il.quantity) AS quantity \"\n",
    "         \" FROM invoice_line AS il \"\n",
    "         \" INNER JOIN track_genres AS tg ON il.track_id = tg.track_id \"\n",
    "         \" INNER JOIN usa_tracks AS us ON il.track_id = us.track_id \"\n",
    "         \" GROUP BY 1\"\n",
    "         \" ORDER BY 2 DESC\")\n",
    "print(run_query(query))"
   ]
  },
  {
   "cell_type": "code",
   "execution_count": null,
   "metadata": {
    "collapsed": true
   },
   "outputs": [],
   "source": []
  }
 ],
 "metadata": {
  "kernelspec": {
   "display_name": "Python 3",
   "language": "python",
   "name": "python3"
  },
  "language_info": {
   "codemirror_mode": {
    "name": "ipython",
    "version": 3
   },
   "file_extension": ".py",
   "mimetype": "text/x-python",
   "name": "python",
   "nbconvert_exporter": "python",
   "pygments_lexer": "ipython3",
   "version": "3.4.3"
  }
 },
 "nbformat": 4,
 "nbformat_minor": 2
}
