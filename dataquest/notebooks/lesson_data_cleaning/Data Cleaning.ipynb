{
 "cells": [
  {
   "cell_type": "markdown",
   "metadata": {},
   "source": [
    "## Data cleaning lesson/exercise from [DataQuest](https://www.dataquest.io/m/136/data-cleaning-walkthrough)"
   ]
  },
  {
   "cell_type": "markdown",
   "metadata": {},
   "source": [
    "Read CSV datasets into Pandas DataFrame objects that we'll store in a dictionary"
   ]
  },
  {
   "cell_type": "code",
   "execution_count": 1,
   "metadata": {},
   "outputs": [],
   "source": [
    "import pandas as pd\n",
    "\n",
    "# NYC high school datasets we'll use, from NYC Open Data (https://data.cityofnewyork.us/Education)\n",
    "data_files = [\n",
    "    \"ap_2010.csv\",\n",
    "    \"class_size.csv\",\n",
    "    \"demographics.csv\",\n",
    "    \"graduation.csv\",\n",
    "    \"hs_directory.csv\",\n",
    "    \"sat_results.csv\"\n",
    "]\n",
    "\n",
    "# create a dictionary of data file names, minus .csv extension (keys) to corresponding Pandas DataFrames (values) \n",
    "data = {}\n",
    "for data_file in data_files:\n",
    "    dataset_name = data_file.split(\".\")[0]\n",
    "    data[dataset_name] = pd.read_csv(data_file)"
   ]
  },
  {
   "cell_type": "markdown",
   "metadata": {},
   "source": [
    "Read survey datasets which are not CSV but instead are tab delimited text files with a \"windows-1252\" encoding:"
   ]
  },
  {
   "cell_type": "code",
   "execution_count": 3,
   "metadata": {},
   "outputs": [
    {
     "name": "stderr",
     "output_type": "stream",
     "text": [
      "C:\\home\\miniconda\\lib\\site-packages\\ipykernel_launcher.py:7: FutureWarning: Sorting because non-concatenation axis is not aligned. A future version\n",
      "of pandas will change to not sort by default.\n",
      "\n",
      "To accept the future behavior, pass 'sort=True'.\n",
      "\n",
      "To retain the current behavior and silence the warning, pass sort=False\n",
      "\n",
      "  import sys\n"
     ]
    }
   ],
   "source": [
    "# read the survey datasets into Pandas DataFrame objects\n",
    "all_survey = pd.read_csv(\"survey_all.txt\", \n",
    "                         delimiter=\"\\t\", \n",
    "                         encoding=\"windows-1252\")\n",
    "d75_survey = pd.read_csv(\"survey_d75.txt\", \n",
    "                         delimiter=\"\\t\", \n",
    "                         encoding=\"windows-1252\")\n",
    "\n",
    "# combine the two surveys into a single DataFrame object\n",
    "survey = pd.concat((all_survey, d75_survey), axis=0, sort=True)"
   ]
  },
  {
   "cell_type": "markdown",
   "metadata": {},
   "source": [
    "Clean the survey DataFrame by \n",
    "\n",
    "1. renaming the \"dbn\" field to \"DBN\", and \n",
    "2. filtering down to only the fields we'll need for our analysis"
   ]
  },
  {
   "cell_type": "code",
   "execution_count": 4,
   "metadata": {},
   "outputs": [],
   "source": [
    "# copy the \"dbn\" column as a column named \"DBN\"\n",
    "survey[\"DBN\"] = survey[\"dbn\"]\n",
    "\n",
    "# create a list of the relevant fields we'll want to filter into our \"survey\" DataFrame\n",
    "survey_fields = [\"DBN\", \"rr_s\", \"rr_t\", \"rr_p\", \"N_s\", \"N_t\", \"N_p\", \"saf_p_11\", \"com_p_11\", \"eng_p_11\", \"aca_p_11\", \"saf_t_11\", \"com_t_11\", \"eng_t_11\", \"aca_t_11\", \"saf_s_11\", \"com_s_11\", \"eng_s_11\", \"aca_s_11\", \"saf_tot_11\", \"com_tot_11\", \"eng_tot_11\", \"aca_tot_11\"]\n",
    "\n",
    "# filter the DataFrame, assign it into the data dictionary\n",
    "data[\"survey\"] = survey[survey_fields]"
   ]
  },
  {
   "cell_type": "code",
   "execution_count": null,
   "metadata": {},
   "outputs": [],
   "source": []
  }
 ],
 "metadata": {
  "kernelspec": {
   "display_name": "Python 3",
   "language": "python",
   "name": "python3"
  },
  "language_info": {
   "codemirror_mode": {
    "name": "ipython",
    "version": 3
   },
   "file_extension": ".py",
   "mimetype": "text/x-python",
   "name": "python",
   "nbconvert_exporter": "python",
   "pygments_lexer": "ipython3",
   "version": "3.6.4"
  }
 },
 "nbformat": 4,
 "nbformat_minor": 2
}
